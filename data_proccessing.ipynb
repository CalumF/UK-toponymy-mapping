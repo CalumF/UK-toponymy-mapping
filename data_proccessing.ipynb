{
 "cells": [
  {
   "cell_type": "code",
   "execution_count": 151,
   "metadata": {
    "ExecuteTime": {
     "end_time": "2020-05-19T11:23:51.467521Z",
     "start_time": "2020-05-19T11:23:40.617106Z"
    }
   },
   "outputs": [],
   "source": [
    "import pandas as pd\n",
    "import numpy as np\n",
    "from tqdm import tqdm\n",
    "from sklearn.preprocessing import MultiLabelBinarizer"
   ]
  },
  {
   "cell_type": "code",
   "execution_count": 3,
   "metadata": {
    "ExecuteTime": {
     "end_time": "2020-05-15T14:35:10.549595Z",
     "start_time": "2020-05-15T14:35:09.887622Z"
    }
   },
   "outputs": [],
   "source": [
    "df = pd.read_csv('data/Index_of_Place_Names_in_Great_Britain_(July_2016).csv')"
   ]
  },
  {
   "cell_type": "code",
   "execution_count": 21,
   "metadata": {
    "ExecuteTime": {
     "end_time": "2020-05-15T15:46:00.699104Z",
     "start_time": "2020-05-15T15:46:00.690389Z"
    }
   },
   "outputs": [
    {
     "data": {
      "text/plain": [
       "Index(['X', 'Y', 'objectid_1', 'objectid', 'placeid', 'place15cd', 'placesort',\n",
       "       'place15nm', 'splitind', 'popcnt', 'descnm', 'ctyhistnm', 'ctyltnm',\n",
       "       'ctry15nm', 'cty15cd', 'cty15nm', 'lad15cd', 'lad15nm', 'laddescnm',\n",
       "       'wd15cd', 'par15cd', 'hlth12cd', 'hlth12nm', 'regd15cd', 'regd15nm',\n",
       "       'rgn15cd', 'rgn15nm', 'npark15cd', 'npark15nm', 'bua11cd', 'pcon15cd',\n",
       "       'pcon15nm', 'eer15cd', 'eer15nm', 'pfa15cd', 'pfa15nm', 'gridgb1m',\n",
       "       'gridgb1e', 'gridgb1n', 'grid1km', 'lat', 'long_'],\n",
       "      dtype='object')"
      ]
     },
     "execution_count": 21,
     "metadata": {},
     "output_type": "execute_result"
    }
   ],
   "source": [
    "df.columns"
   ]
  },
  {
   "cell_type": "code",
   "execution_count": 4,
   "metadata": {
    "ExecuteTime": {
     "end_time": "2020-05-15T14:35:11.402557Z",
     "start_time": "2020-05-15T14:35:11.374211Z"
    }
   },
   "outputs": [
    {
     "data": {
      "text/html": [
       "<div>\n",
       "<style scoped>\n",
       "    .dataframe tbody tr th:only-of-type {\n",
       "        vertical-align: middle;\n",
       "    }\n",
       "\n",
       "    .dataframe tbody tr th {\n",
       "        vertical-align: top;\n",
       "    }\n",
       "\n",
       "    .dataframe thead th {\n",
       "        text-align: right;\n",
       "    }\n",
       "</style>\n",
       "<table border=\"1\" class=\"dataframe\">\n",
       "  <thead>\n",
       "    <tr style=\"text-align: right;\">\n",
       "      <th></th>\n",
       "      <th>X</th>\n",
       "      <th>Y</th>\n",
       "      <th>objectid_1</th>\n",
       "      <th>objectid</th>\n",
       "      <th>placeid</th>\n",
       "      <th>place15cd</th>\n",
       "      <th>placesort</th>\n",
       "      <th>place15nm</th>\n",
       "      <th>splitind</th>\n",
       "      <th>popcnt</th>\n",
       "      <th>...</th>\n",
       "      <th>eer15cd</th>\n",
       "      <th>eer15nm</th>\n",
       "      <th>pfa15cd</th>\n",
       "      <th>pfa15nm</th>\n",
       "      <th>gridgb1m</th>\n",
       "      <th>gridgb1e</th>\n",
       "      <th>gridgb1n</th>\n",
       "      <th>grid1km</th>\n",
       "      <th>lat</th>\n",
       "      <th>long_</th>\n",
       "    </tr>\n",
       "  </thead>\n",
       "  <tbody>\n",
       "    <tr>\n",
       "      <th>0</th>\n",
       "      <td>127213</td>\n",
       "      <td>805291</td>\n",
       "      <td>1</td>\n",
       "      <td>1</td>\n",
       "      <td>382</td>\n",
       "      <td>IPN0000419</td>\n",
       "      <td>achill</td>\n",
       "      <td>A' Chill</td>\n",
       "      <td>0</td>\n",
       "      <td></td>\n",
       "      <td>...</td>\n",
       "      <td>S15000001</td>\n",
       "      <td>Scotland</td>\n",
       "      <td>S23000009</td>\n",
       "      <td>Scotland</td>\n",
       "      <td>1272130805291</td>\n",
       "      <td>127213</td>\n",
       "      <td>805291</td>\n",
       "      <td>NG2705</td>\n",
       "      <td>57.057645</td>\n",
       "      <td>-6.500824</td>\n",
       "    </tr>\n",
       "    <tr>\n",
       "      <th>1</th>\n",
       "      <td>238625</td>\n",
       "      <td>725335</td>\n",
       "      <td>2</td>\n",
       "      <td>2</td>\n",
       "      <td>17379</td>\n",
       "      <td>IPN0018256</td>\n",
       "      <td>crianlarich</td>\n",
       "      <td>A' Chrìon Làraich</td>\n",
       "      <td>0</td>\n",
       "      <td></td>\n",
       "      <td>...</td>\n",
       "      <td>S15000001</td>\n",
       "      <td>Scotland</td>\n",
       "      <td>S23000009</td>\n",
       "      <td>Scotland</td>\n",
       "      <td>2386250725335</td>\n",
       "      <td>238625</td>\n",
       "      <td>725335</td>\n",
       "      <td>NN3825</td>\n",
       "      <td>56.392640</td>\n",
       "      <td>-4.615908</td>\n",
       "    </tr>\n",
       "    <tr>\n",
       "      <th>2</th>\n",
       "      <td>118024</td>\n",
       "      <td>850126</td>\n",
       "      <td>3</td>\n",
       "      <td>3</td>\n",
       "      <td>26626</td>\n",
       "      <td>IPN0027987</td>\n",
       "      <td>glasphein</td>\n",
       "      <td>A' Glas Pheighinn</td>\n",
       "      <td>0</td>\n",
       "      <td></td>\n",
       "      <td>...</td>\n",
       "      <td>S15000001</td>\n",
       "      <td>Scotland</td>\n",
       "      <td>S23000009</td>\n",
       "      <td>Scotland</td>\n",
       "      <td>1180240850126</td>\n",
       "      <td>118024</td>\n",
       "      <td>850126</td>\n",
       "      <td>NG1850</td>\n",
       "      <td>57.453522</td>\n",
       "      <td>-6.702790</td>\n",
       "    </tr>\n",
       "    <tr>\n",
       "      <th>3</th>\n",
       "      <td>167998</td>\n",
       "      <td>768309</td>\n",
       "      <td>4</td>\n",
       "      <td>4</td>\n",
       "      <td>46448</td>\n",
       "      <td>IPN0048777</td>\n",
       "      <td>moss</td>\n",
       "      <td>A' Mhointeach</td>\n",
       "      <td>0</td>\n",
       "      <td></td>\n",
       "      <td>...</td>\n",
       "      <td>S15000001</td>\n",
       "      <td>Scotland</td>\n",
       "      <td>S23000009</td>\n",
       "      <td>Scotland</td>\n",
       "      <td>1679980768309</td>\n",
       "      <td>167998</td>\n",
       "      <td>768309</td>\n",
       "      <td>NM6768</td>\n",
       "      <td>56.748497</td>\n",
       "      <td>-5.796153</td>\n",
       "    </tr>\n",
       "    <tr>\n",
       "      <th>4</th>\n",
       "      <td>164719</td>\n",
       "      <td>823108</td>\n",
       "      <td>5</td>\n",
       "      <td>5</td>\n",
       "      <td>6291</td>\n",
       "      <td>IPN0006615</td>\n",
       "      <td>blackpark</td>\n",
       "      <td>A' Phairce Dhubh</td>\n",
       "      <td>0</td>\n",
       "      <td></td>\n",
       "      <td>...</td>\n",
       "      <td>S15000001</td>\n",
       "      <td>Scotland</td>\n",
       "      <td>S23000009</td>\n",
       "      <td>Scotland</td>\n",
       "      <td>1647190823108</td>\n",
       "      <td>164719</td>\n",
       "      <td>823108</td>\n",
       "      <td>NG6423</td>\n",
       "      <td>57.238000</td>\n",
       "      <td>-5.900764</td>\n",
       "    </tr>\n",
       "    <tr>\n",
       "      <th>5</th>\n",
       "      <td>209521</td>\n",
       "      <td>776848</td>\n",
       "      <td>6</td>\n",
       "      <td>6</td>\n",
       "      <td>16465</td>\n",
       "      <td>IPN0017294</td>\n",
       "      <td>corpach</td>\n",
       "      <td>A'Chorpaich</td>\n",
       "      <td>0</td>\n",
       "      <td></td>\n",
       "      <td>...</td>\n",
       "      <td>S15000001</td>\n",
       "      <td>Scotland</td>\n",
       "      <td>S23000009</td>\n",
       "      <td>Scotland</td>\n",
       "      <td>2095210776848</td>\n",
       "      <td>209521</td>\n",
       "      <td>776848</td>\n",
       "      <td>NN0976</td>\n",
       "      <td>56.843908</td>\n",
       "      <td>-5.124655</td>\n",
       "    </tr>\n",
       "    <tr>\n",
       "      <th>6</th>\n",
       "      <td>495783</td>\n",
       "      <td>143522</td>\n",
       "      <td>7</td>\n",
       "      <td>7</td>\n",
       "      <td>1</td>\n",
       "      <td>IPN0000001</td>\n",
       "      <td>aaronshill</td>\n",
       "      <td>Aaron's Hill</td>\n",
       "      <td>0</td>\n",
       "      <td></td>\n",
       "      <td>...</td>\n",
       "      <td>E15000008</td>\n",
       "      <td>South East</td>\n",
       "      <td>E23000031</td>\n",
       "      <td>Surrey</td>\n",
       "      <td>4957830143522</td>\n",
       "      <td>495783</td>\n",
       "      <td>143522</td>\n",
       "      <td>SU9543</td>\n",
       "      <td>51.182914</td>\n",
       "      <td>-0.630976</td>\n",
       "    </tr>\n",
       "    <tr>\n",
       "      <th>7</th>\n",
       "      <td>473638</td>\n",
       "      <td>323718</td>\n",
       "      <td>8</td>\n",
       "      <td>8</td>\n",
       "      <td>325</td>\n",
       "      <td>IPN0000356</td>\n",
       "      <td>abkettleby</td>\n",
       "      <td>Ab Kettleby</td>\n",
       "      <td>0</td>\n",
       "      <td>529</td>\n",
       "      <td>...</td>\n",
       "      <td>E15000004</td>\n",
       "      <td>East Midlands</td>\n",
       "      <td>E23000021</td>\n",
       "      <td>Leicestershire</td>\n",
       "      <td>4736380323718</td>\n",
       "      <td>473638</td>\n",
       "      <td>323718</td>\n",
       "      <td>SK7323</td>\n",
       "      <td>52.805997</td>\n",
       "      <td>-0.909079</td>\n",
       "    </tr>\n",
       "    <tr>\n",
       "      <th>8</th>\n",
       "      <td>401400</td>\n",
       "      <td>251700</td>\n",
       "      <td>9</td>\n",
       "      <td>9</td>\n",
       "      <td>326</td>\n",
       "      <td>IPN0000357</td>\n",
       "      <td>ablench</td>\n",
       "      <td>Ab Lench</td>\n",
       "      <td>0</td>\n",
       "      <td></td>\n",
       "      <td>...</td>\n",
       "      <td>E15000005</td>\n",
       "      <td>West Midlands</td>\n",
       "      <td>E23000016</td>\n",
       "      <td>West Mercia</td>\n",
       "      <td>4014000251700</td>\n",
       "      <td>401400</td>\n",
       "      <td>251700</td>\n",
       "      <td>SP0151</td>\n",
       "      <td>52.163569</td>\n",
       "      <td>-1.980949</td>\n",
       "    </tr>\n",
       "    <tr>\n",
       "      <th>9</th>\n",
       "      <td>306727</td>\n",
       "      <td>270918</td>\n",
       "      <td>10</td>\n",
       "      <td>10</td>\n",
       "      <td>39</td>\n",
       "      <td>IPN0000039</td>\n",
       "      <td>abbeycwmhir</td>\n",
       "      <td>Abaty Cwm-hir</td>\n",
       "      <td>0</td>\n",
       "      <td>235</td>\n",
       "      <td>...</td>\n",
       "      <td>W08000001</td>\n",
       "      <td>Wales</td>\n",
       "      <td>W15000004</td>\n",
       "      <td>Dyfed-Powys</td>\n",
       "      <td>3067270270918</td>\n",
       "      <td>306727</td>\n",
       "      <td>270918</td>\n",
       "      <td>SO0670</td>\n",
       "      <td>52.328398</td>\n",
       "      <td>-3.370117</td>\n",
       "    </tr>\n",
       "  </tbody>\n",
       "</table>\n",
       "<p>10 rows × 42 columns</p>\n",
       "</div>"
      ],
      "text/plain": [
       "        X       Y  objectid_1  objectid  placeid   place15cd    placesort  \\\n",
       "0  127213  805291           1         1      382  IPN0000419       achill   \n",
       "1  238625  725335           2         2    17379  IPN0018256  crianlarich   \n",
       "2  118024  850126           3         3    26626  IPN0027987    glasphein   \n",
       "3  167998  768309           4         4    46448  IPN0048777         moss   \n",
       "4  164719  823108           5         5     6291  IPN0006615    blackpark   \n",
       "5  209521  776848           6         6    16465  IPN0017294      corpach   \n",
       "6  495783  143522           7         7        1  IPN0000001   aaronshill   \n",
       "7  473638  323718           8         8      325  IPN0000356   abkettleby   \n",
       "8  401400  251700           9         9      326  IPN0000357      ablench   \n",
       "9  306727  270918          10        10       39  IPN0000039  abbeycwmhir   \n",
       "\n",
       "           place15nm  splitind popcnt  ...    eer15cd        eer15nm  \\\n",
       "0           A' Chill         0         ...  S15000001       Scotland   \n",
       "1  A' Chrìon Làraich         0         ...  S15000001       Scotland   \n",
       "2  A' Glas Pheighinn         0         ...  S15000001       Scotland   \n",
       "3      A' Mhointeach         0         ...  S15000001       Scotland   \n",
       "4   A' Phairce Dhubh         0         ...  S15000001       Scotland   \n",
       "5        A'Chorpaich         0         ...  S15000001       Scotland   \n",
       "6       Aaron's Hill         0         ...  E15000008     South East   \n",
       "7        Ab Kettleby         0    529  ...  E15000004  East Midlands   \n",
       "8           Ab Lench         0         ...  E15000005  West Midlands   \n",
       "9      Abaty Cwm-hir         0    235  ...  W08000001          Wales   \n",
       "\n",
       "     pfa15cd         pfa15nm       gridgb1m gridgb1e gridgb1n grid1km  \\\n",
       "0  S23000009        Scotland  1272130805291   127213   805291  NG2705   \n",
       "1  S23000009        Scotland  2386250725335   238625   725335  NN3825   \n",
       "2  S23000009        Scotland  1180240850126   118024   850126  NG1850   \n",
       "3  S23000009        Scotland  1679980768309   167998   768309  NM6768   \n",
       "4  S23000009        Scotland  1647190823108   164719   823108  NG6423   \n",
       "5  S23000009        Scotland  2095210776848   209521   776848  NN0976   \n",
       "6  E23000031          Surrey  4957830143522   495783   143522  SU9543   \n",
       "7  E23000021  Leicestershire  4736380323718   473638   323718  SK7323   \n",
       "8  E23000016     West Mercia  4014000251700   401400   251700  SP0151   \n",
       "9  W15000004     Dyfed-Powys  3067270270918   306727   270918  SO0670   \n",
       "\n",
       "         lat     long_  \n",
       "0  57.057645 -6.500824  \n",
       "1  56.392640 -4.615908  \n",
       "2  57.453522 -6.702790  \n",
       "3  56.748497 -5.796153  \n",
       "4  57.238000 -5.900764  \n",
       "5  56.843908 -5.124655  \n",
       "6  51.182914 -0.630976  \n",
       "7  52.805997 -0.909079  \n",
       "8  52.163569 -1.980949  \n",
       "9  52.328398 -3.370117  \n",
       "\n",
       "[10 rows x 42 columns]"
      ]
     },
     "execution_count": 4,
     "metadata": {},
     "output_type": "execute_result"
    }
   ],
   "source": [
    "df.head(10)"
   ]
  },
  {
   "cell_type": "code",
   "execution_count": 257,
   "metadata": {
    "ExecuteTime": {
     "end_time": "2020-05-19T12:32:09.401564Z",
     "start_time": "2020-05-19T12:32:09.394734Z"
    }
   },
   "outputs": [],
   "source": [
    "trim_df = df[['place15nm', 'lat', 'long_']]"
   ]
  },
  {
   "cell_type": "code",
   "execution_count": 258,
   "metadata": {
    "ExecuteTime": {
     "end_time": "2020-05-19T12:33:31.933514Z",
     "start_time": "2020-05-19T12:33:31.929407Z"
    }
   },
   "outputs": [],
   "source": [
    "trim_df.columns = ['place_names', 'lat', 'long']"
   ]
  },
  {
   "cell_type": "code",
   "execution_count": 236,
   "metadata": {
    "ExecuteTime": {
     "end_time": "2020-05-19T12:19:38.501416Z",
     "start_time": "2020-05-19T12:19:38.488825Z"
    }
   },
   "outputs": [],
   "source": [
    "def processer(origin, places):\n",
    "    \n",
    "    def term_matching(term, row, string_match):\n",
    "        places_matching_term = places[places.place15nm_sp.str.contains(string_match)].place15nm\n",
    "        for place in places_matching_term:\n",
    "            check = True\n",
    "            for previous_term in place_tag_dict[place][0]:    #if 'by' is matched, won't match 'y'\n",
    "                if term in previous_term:\n",
    "                    check = False\n",
    "            if check:\n",
    "                place_tag_dict[place][0].append(term)\n",
    "                for tag in row[2].split(','):\n",
    "                    if tag != '':\n",
    "                        place_tag_dict[place][1].append(tag)\n",
    "    \n",
    "    place_tag_dict = {key:([],[]) for key in places.place15nm}\n",
    "    \n",
    "    places['place15nm_sp'] = places.place15nm.map(lambda x: ' ' + x.strip() + ' ')\n",
    "    \n",
    "    for row in tqdm(origin.itertuples()):\n",
    "        for term in sorted(row[1].split(','), key=len, reverse=True):\n",
    "            if type(row[3]) == float:\n",
    "                term_matching(term, row, term)\n",
    "                continue\n",
    "            fix_dict = {'suffix': r'\\w+'+ term + r'\\W', \n",
    "                        'prefix': r'\\W' + term + r'\\w+', \n",
    "                        'interfix': r'[-\\s]{}[-\\s]'.format(term)}\n",
    "            for fix in fix_dict.keys():\n",
    "                if fix in row[3]:\n",
    "                    term_matching(term, row, fix_dict[fix])\n",
    "                    break\n",
    "    place_tag_dict.keys()\n",
    "    return place_tag_dict\n",
    "\n"
   ]
  },
  {
   "cell_type": "code",
   "execution_count": 7,
   "metadata": {
    "ExecuteTime": {
     "end_time": "2020-05-15T14:35:23.869231Z",
     "start_time": "2020-05-15T14:35:23.861683Z"
    }
   },
   "outputs": [],
   "source": [
    "def strip(entry):\n",
    "    try:\n",
    "        new_entry = []\n",
    "        for char in entry:\n",
    "            if char == ',':\n",
    "                new_entry.append(char)\n",
    "            elif char.isalpha():\n",
    "                new_entry.append(char)\n",
    "        new_entry = ''.join(new_entry)\n",
    "        return new_entry\n",
    "    except:\n",
    "        return entry\n",
    "\n",
    "def striplower(entry):\n",
    "    try:\n",
    "        new_entry = []\n",
    "        for char in entry:\n",
    "            if char == ',':\n",
    "                new_entry.append(char)\n",
    "            elif char.isupper():\n",
    "                new_entry.append(char)\n",
    "        new_entry = ''.join(new_entry)\n",
    "        return new_entry\n",
    "    except:\n",
    "        return entry"
   ]
  },
  {
   "cell_type": "code",
   "execution_count": 244,
   "metadata": {
    "ExecuteTime": {
     "end_time": "2020-05-19T12:27:01.892223Z",
     "start_time": "2020-05-19T12:27:01.841971Z"
    }
   },
   "outputs": [],
   "source": [
    "csv = pd.read_clipboard(sep=',')\n",
    "csv.to_csv('data/table-1.csv')"
   ]
  },
  {
   "cell_type": "code",
   "execution_count": 245,
   "metadata": {
    "ExecuteTime": {
     "end_time": "2020-05-19T12:27:03.075942Z",
     "start_time": "2020-05-19T12:27:03.054318Z"
    }
   },
   "outputs": [],
   "source": [
    "origins = pd.read_csv('data/table-1.csv')\n",
    "\n",
    "origins = origins.applymap(lambda x: strip(x))\n",
    "\n",
    "origins = origins[['Term', 'Origin', 'Position']]\n",
    "\n",
    "origins.Origin = origins.Origin.map(lambda x: striplower(x))\n",
    "\n",
    "origins['Origin'] = origins.Origin.astype('string')"
   ]
  },
  {
   "cell_type": "code",
   "execution_count": 246,
   "metadata": {
    "ExecuteTime": {
     "end_time": "2020-05-19T12:27:27.379670Z",
     "start_time": "2020-05-19T12:27:14.135002Z"
    }
   },
   "outputs": [
    {
     "name": "stderr",
     "output_type": "stream",
     "text": [
      "139it [00:12, 11.06it/s]\n"
     ]
    }
   ],
   "source": [
    "place_tag_dict = processer(origins, df)"
   ]
  },
  {
   "cell_type": "code",
   "execution_count": 247,
   "metadata": {
    "ExecuteTime": {
     "end_time": "2020-05-19T12:27:29.002659Z",
     "start_time": "2020-05-19T12:27:28.952812Z"
    }
   },
   "outputs": [],
   "source": [
    "place_tag_df = pd.DataFrame().from_dict(place_tag_dict, orient='index', columns=['terms', 'tags'])"
   ]
  },
  {
   "cell_type": "code",
   "execution_count": 248,
   "metadata": {
    "ExecuteTime": {
     "end_time": "2020-05-19T12:27:29.376935Z",
     "start_time": "2020-05-19T12:27:29.369788Z"
    }
   },
   "outputs": [],
   "source": [
    "place_tag_df.reset_index(inplace=True)"
   ]
  },
  {
   "cell_type": "code",
   "execution_count": 249,
   "metadata": {
    "ExecuteTime": {
     "end_time": "2020-05-19T12:27:30.156867Z",
     "start_time": "2020-05-19T12:27:30.092590Z"
    }
   },
   "outputs": [],
   "source": [
    "mlb = MultiLabelBinarizer()\n",
    "dummy_df = pd.DataFrame(mlb.fit_transform(place_tag_df.tags), columns=mlb.classes_)"
   ]
  },
  {
   "cell_type": "code",
   "execution_count": 251,
   "metadata": {
    "ExecuteTime": {
     "end_time": "2020-05-19T12:28:17.907059Z",
     "start_time": "2020-05-19T12:28:17.894249Z"
    }
   },
   "outputs": [],
   "source": [
    "place_dummies_df = pd.merge(place_tag_df, dummy_df, left_index=True, right_index=True)"
   ]
  },
  {
   "cell_type": "code",
   "execution_count": 255,
   "metadata": {
    "ExecuteTime": {
     "end_time": "2020-05-19T12:30:29.831620Z",
     "start_time": "2020-05-19T12:30:29.824094Z"
    }
   },
   "outputs": [],
   "source": [
    "place_dummies_df.columns = ['place_names', 'terms', 'tags', 'B', 'C', 'I', 'K', 'KL', 'L', 'ME', 'NF','OE', 'ON', 'P', 'S', 'SG', 'W']"
   ]
  },
  {
   "cell_type": "code",
   "execution_count": 261,
   "metadata": {
    "ExecuteTime": {
     "end_time": "2020-05-19T12:36:40.883206Z",
     "start_time": "2020-05-19T12:36:40.826816Z"
    }
   },
   "outputs": [],
   "source": [
    "final_df = pd.merge(place_dummies_df, trim_df, on='place_names')"
   ]
  },
  {
   "cell_type": "code",
   "execution_count": 264,
   "metadata": {
    "ExecuteTime": {
     "end_time": "2020-05-19T12:39:22.852767Z",
     "start_time": "2020-05-19T12:39:22.816747Z"
    }
   },
   "outputs": [],
   "source": [
    "final_df['tags'] = final_df.tags.map(lambda x: np.nan if len(x) == 0 else x)"
   ]
  },
  {
   "cell_type": "code",
   "execution_count": 267,
   "metadata": {
    "ExecuteTime": {
     "end_time": "2020-05-19T12:40:07.070008Z",
     "start_time": "2020-05-19T12:40:07.031374Z"
    }
   },
   "outputs": [],
   "source": [
    "final_df = final_df.dropna().copy()"
   ]
  },
  {
   "cell_type": "code",
   "execution_count": 268,
   "metadata": {
    "ExecuteTime": {
     "end_time": "2020-05-19T12:40:36.485811Z",
     "start_time": "2020-05-19T12:40:36.159396Z"
    }
   },
   "outputs": [],
   "source": [
    "final_df.to_csv('final_df.csv')"
   ]
  },
  {
   "cell_type": "code",
   "execution_count": null,
   "metadata": {},
   "outputs": [],
   "source": []
  }
 ],
 "metadata": {
  "kernelspec": {
   "display_name": "mapping",
   "language": "python",
   "name": "mapping"
  },
  "language_info": {
   "codemirror_mode": {
    "name": "ipython",
    "version": 3
   },
   "file_extension": ".py",
   "mimetype": "text/x-python",
   "name": "python",
   "nbconvert_exporter": "python",
   "pygments_lexer": "ipython3",
   "version": "3.8.2"
  },
  "varInspector": {
   "cols": {
    "lenName": 16,
    "lenType": 16,
    "lenVar": 40
   },
   "kernels_config": {
    "python": {
     "delete_cmd_postfix": "",
     "delete_cmd_prefix": "del ",
     "library": "var_list.py",
     "varRefreshCmd": "print(var_dic_list())"
    },
    "r": {
     "delete_cmd_postfix": ") ",
     "delete_cmd_prefix": "rm(",
     "library": "var_list.r",
     "varRefreshCmd": "cat(var_dic_list()) "
    }
   },
   "types_to_exclude": [
    "module",
    "function",
    "builtin_function_or_method",
    "instance",
    "_Feature"
   ],
   "window_display": false
  }
 },
 "nbformat": 4,
 "nbformat_minor": 4
}
